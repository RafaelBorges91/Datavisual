{
  "cells": [
    {
      "cell_type": "markdown",
      "metadata": {
        "id": "view-in-github",
        "colab_type": "text"
      },
      "source": [
        "<a href=\"https://colab.research.google.com/github/RafaelBorges91/Datavisual/blob/main/Df_Matplotlib.ipynb\" target=\"_parent\"><img src=\"https://colab.research.google.com/assets/colab-badge.svg\" alt=\"Open In Colab\"/></a>"
      ]
    },
    {
      "cell_type": "code",
      "source": [
        "import matplotlib.pyplot as plt\n",
        "\n",
        "# Dados de exemplo\n",
        "\n",
        "meses = ['Janeiro', 'Fevereiro', 'Março', 'Abril', 'Maio']\n",
        "\n",
        "vendas = [120, 90, 150, 80, 200]\n",
        "\n",
        "\n",
        "\n",
        "# Criar um gráfico de barras\n",
        "\n",
        "plt.bar(meses, vendas, color='black')\n",
        "\n",
        "\n",
        "\n",
        "# Adicionar rótulos aos eixos\n",
        "\n",
        "plt.xlabel('Mês')\n",
        "\n",
        "plt.ylabel('Vendas (em unidades)')\n",
        "\n",
        "\n",
        "\n",
        "# Adicionar um título ao gráfico\n",
        "\n",
        "plt.title('Vendas Mensais')\n",
        "\n",
        "\n",
        "\n",
        "# Mostrar o gráfico\n",
        "\n",
        "plt.show()"
      ],
      "metadata": {
        "id": "jjbU7dlKd7eP"
      },
      "execution_count": null,
      "outputs": []
    }
  ],
  "metadata": {
    "colab": {
      "toc_visible": true,
      "provenance": [],
      "include_colab_link": true
    },
    "kernelspec": {
      "display_name": "Python 3",
      "name": "python3"
    }
  },
  "nbformat": 4,
  "nbformat_minor": 0
}